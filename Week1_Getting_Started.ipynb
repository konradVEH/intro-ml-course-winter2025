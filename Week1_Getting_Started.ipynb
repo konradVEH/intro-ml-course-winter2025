{
  "nbformat": 4,
  "nbformat_minor": 0,
  "metadata": {
    "colab": {
      "provenance": [],
      "toc_visible": true,
      "authorship_tag": "ABX9TyN/6w3yuQhvdvRrbJXSQ7SX",
      "include_colab_link": true
    },
    "kernelspec": {
      "name": "python3",
      "display_name": "Python 3"
    },
    "language_info": {
      "name": "python"
    }
  },
  "cells": [
    {
      "cell_type": "markdown",
      "metadata": {
        "id": "view-in-github",
        "colab_type": "text"
      },
      "source": [
        "<a href=\"https://colab.research.google.com/github/konradVEH/intro-ml-course-winter2025/blob/main/Week1_Getting_Started.ipynb\" target=\"_parent\"><img src=\"https://colab.research.google.com/assets/colab-badge.svg\" alt=\"Open In Colab\"/></a>"
      ]
    },
    {
      "cell_type": "markdown",
      "source": [
        "<br>\n",
        "\n",
        "<font color='#2a9d8f' size=5 align=\"left\">HAD7001–Applied Machine Learning for Health Data</font><br>\n",
        "<font color='#96954d' size=4 align=\"left\">Instructor: Zahra Shakeri–Winter 2025</font><br>\n",
        "<font color='#919180' size=3 align=\"left\">Dalla Lana School of Public Health-University of Toronto </font><br>\n",
        "<font color='#919180' size=3 align=\"left\">Week 1: Getting Started with Colab and GitHub </font>"
      ],
      "metadata": {
        "id": "xsLadHq0tb2x"
      }
    },
    {
      "cell_type": "markdown",
      "source": [
        "<br>\n",
        "<font color='#2a9d8f' size=6>Introduction to Google Colab</font>\n",
        "\n",
        "Google Colab (short for Colaboratory) is a free, cloud-based platform that allows you to write and run Python code directly in your web browser. It remains popular among data scientists and educators.\n",
        "\n",
        "With Google Colab, you can:\n",
        "\n",
        "- **Write and Execute Code**: Run Python code in interactive Jupyter-style notebooks.\n",
        "- **Access GPUs and TPUs**: Perform high-performance computations with free access to GPUs and TPUs (useful for machine learning tasks).\n",
        "- **Collaborate in Real-Time**: Share notebooks with others.\n",
        "- **Use Pre-Installed Libraries**: Access a wide range of pre-installed Python libraries for data analysis, visualization, and machine learning.\n",
        "- **Integrate with Google Drive**: Save your notebooks directly to Google Drive for easy access and sharing.\n"
      ],
      "metadata": {
        "id": "VqfdnZjaiqCq"
      }
    },
    {
      "cell_type": "markdown",
      "source": [
        "\n",
        "<font color='#2a9d8f' size=5>Wait...What Are Jupyter Notebooks?</font>\n",
        "\n",
        "Jupyter Notebooks are an open-source tool for creating and sharing documents that combine code, code outputs, and narrative text. They allow users to:\n",
        "\n",
        "- Write and execute code interactively.\n",
        "- Create cool visualizations.\n",
        "- Document work with Markdown\n",
        "- Export results in different formats (HTML, PDF, etc.).\n",
        "\n",
        "Jupyter Notebooks are a useful way for creating reproducible research, and will be utilized in this course for teaching and assignments."
      ],
      "metadata": {
        "id": "pyWFScDXkHkq"
      }
    },
    {
      "cell_type": "markdown",
      "source": [
        "\n",
        "<font color='#2a9d8f' size=5>How do I Create a New Google Colab Notebook</font>\n",
        "1. Open **Google Drive** in your browser.  \n",
        "2. Navigate to the folder where you want to save your notebook.  \n",
        "3. Click on **`New`** in the top-left corner.  \n",
        "4. Select **`More`** from the dropdown menu.  \n",
        "5. Click on **`Google Colaboratory`**.  \n",
        "\n",
        "Congratulations! You've successfully created a new Colab notebook."
      ],
      "metadata": {
        "id": "bOP5wd4tlBru"
      }
    },
    {
      "cell_type": "markdown",
      "source": [
        "\n",
        "<font color='#2a9d8f' size=5>How do I share Colab files with other students?</font>\n",
        "\n",
        "*   To rename your Colab file, click on the file name at the top of the notebook. This will allow you to edit the name. Make sure to keep the `.ipynb` file extension.  \n",
        "*   To share a file, click on **`Share`** in the top-right corner. You'll see options to add collaborators and manage permissions."
      ],
      "metadata": {
        "id": "ehueCqQXmZU4"
      }
    },
    {
      "cell_type": "markdown",
      "source": [
        "<br>\n",
        "<font color='#2a9d8f' size=6>Using Google Colab</font>\n",
        "\n",
        "<font color='#2a9d8f' size=5>RunTime</font>\n",
        "\n",
        "Connecting to a runtime enables you to execute your code using Google’s computational resources.\n",
        "\n",
        "To Connect:\n",
        "\n",
        "*   Click on  **`Connect`** on the top right side of your screen. You will be automatically connected to a CPU. You can now begin running your code!\n",
        "\n",
        "To Change Runtime:\n",
        "\n",
        "*   Click on the dropdown arrow beside **`Connect`** and select **`Change Runtime Type`**\n",
        "\n",
        "A CPU runtime is usually enough, but for demanding tasks like neural network training, GPUs or TPUs can provide faster performance. Free access to GPUs and TPUs depends on availability and your usage limits."
      ],
      "metadata": {
        "id": "_Y4nkODOmoMf"
      }
    },
    {
      "cell_type": "markdown",
      "source": [
        "<font color='#2a9d8f' size=5>Creating a Text Cell</font>\n",
        "\n",
        "To add a text cell, click on the **`+ Text`** button above. You can then add text descriptions. You can use the built-in buttons for text formatting (e.g., Headers, Bold, Italics, Add Image) or you can use markdown.\n",
        "\n",
        "Some options for markdown are as follows:\n",
        "\n",
        "Markdown | Preview\n",
        "--- | ---\n",
        "`**bold text**` | **bold text**\n",
        "`*italicized text*` or `_italicized text_` | *italicized text*\n",
        "`` `Monospace` `` | `Monospace`\n",
        "`~~strikethrough~~` | ~~strikethrough~~\n",
        "`[A link](https://www.google.com)` | [A link](https://www.google.com)\n",
        "`![An image](https://www.google.com/images/rss.png)` | ![An image](https://www.google.com/images/rss.png)\n",
        "\n",
        "\n",
        "---\n",
        "The following can be used to create headings:\n",
        "\n",
        "```markdown\n",
        "# Section 1\n",
        "# Section 2\n",
        "## Sub-section under Section 2\n",
        "### Sub-section under the sub-section under Section 2\n",
        "# Section 3\n",
        "```\n",
        "\n",
        "The table of contents, available on the left side of Colab, is populated using at most one section title from each text cell."
      ],
      "metadata": {
        "id": "4XoOoUc-tuhV"
      }
    },
    {
      "cell_type": "markdown",
      "source": [
        "<font color='#2a9d8f' size=5>Creating a Code Cell</font>\n",
        "\n",
        "To add a text cell, click on the **`+ Text`** button at the top of your Colab notebook. Use this to add explanations, instructions, or other descriptive content.  \n",
        "\n",
        "To add a code cell, click on the **`+ Code`** button. You can then write and execute Python code within the cell.  \n",
        "\n",
        "To add comments in Python, use the `#` character. Comments are ignored by the Python interpreter and are helpful for explaining your code. If you wanted to comment out (or un-comment) multiple lines of your code, it may be easier to use **`ctrl+/`** instead of manually adding *`#`*  to each line.\n",
        "\n",
        "```python\n",
        "# This is a comment\n",
        "# Comments are useful for describing what your code does\n",
        "print(\"Hello, world!\")  # This prints a greeting\n"
      ],
      "metadata": {
        "id": "QwWXw8egvGBS"
      }
    },
    {
      "cell_type": "markdown",
      "source": [
        "To run the code, click on the play button located to the left of the code cell. it will appear between the square brackets [   ] when you hover over this section. Alternatively, you can press Shift + Enter on your keyboard to execute the cell. Try running the code below."
      ],
      "metadata": {
        "id": "YagzjEZjv6PA"
      }
    },
    {
      "cell_type": "code",
      "source": [
        "print(\"Hello, world!\")"
      ],
      "metadata": {
        "colab": {
          "base_uri": "https://localhost:8080/"
        },
        "id": "x_Eq79FVvLZo",
        "outputId": "32d353d4-a9bf-455d-8902-f63045b336dc"
      },
      "execution_count": null,
      "outputs": [
        {
          "output_type": "stream",
          "name": "stdout",
          "text": [
            "Hello, world!\n"
          ]
        }
      ]
    },
    {
      "cell_type": "markdown",
      "source": [
        "\n",
        "<font color='#2a9d8f' size=5>Loading Packages</font>\n",
        "\n",
        "**What Are Packages?**\n",
        "\n",
        "Packages in Python are collections of pre-written code that provide additional functionality, making it easier to perform specific tasks without having to write everything from scratch. They often include modules, functions, and classes tailored for tasks like data analysis, machine learning, visualization, etc..\n",
        "\n",
        "For example:  \n",
        "- **`numpy`**: NumPy provides tools for numerical computing, including array manipulation and advanced mathematical functions.\n",
        "- **`pandas`**: Pandas is a Python library that makes handling and analyzing tabular data efficient and intuitive."
      ],
      "metadata": {
        "id": "1f_DS85_wkVG"
      }
    },
    {
      "cell_type": "markdown",
      "source": [
        "To use a package, you first need to load it into your environment using the `import` statement. For instance:  \n",
        "\n",
        "```python\n",
        "import numpy as np  # Import the numpy package and alias it as 'np'\n",
        "import pandas as pd  # Import pandas and alias it as 'pd'\n"
      ],
      "metadata": {
        "id": "6HSvJKQUw8Yo"
      }
    },
    {
      "cell_type": "markdown",
      "source": [
        "If a package is not already installed, you can install it directly in Colab using !pip install. For example:\n",
        "\n",
        "```python\n",
        "!pip install seaborn\n",
        "import seaborn as sns\n"
      ],
      "metadata": {
        "id": "jeAwe1EMxIaN"
      }
    },
    {
      "cell_type": "markdown",
      "source": [
        "<font color='#2a9d8f' size=5>Loading Data</font>\n",
        "\n",
        "There are two main ways to load data into a google colab environment.\n",
        "\n",
        "**Option 1: Access Data in Google Drive**\n",
        "\n",
        "Upload your data to your google drive. Then use this code to access your file:\n",
        "\n",
        "```python\n",
        "import pandas as pd\n",
        "from google.colab import drive\n",
        "    drive.mount('/content/drive')\n",
        "    data = pd.read_excel(\"drive/My Drive/ML Course/Assignment/Diabetes Prediction File.xlsx\") #Add your file path here\n",
        "```\n",
        "The dataset will be loaded into your environment and stored in the variable \"data\". I prefer option 1 as I don't have to manually upload the data each time that I run the code.\n",
        "\n",
        "\n",
        "**Option 2: Upload your data directly.**\n",
        "\n",
        "```python\n",
        "import pandas as pd\n",
        "from google.colab import files\n",
        "import io\n",
        "\n",
        "# Upload the file\n",
        "uploaded = files.upload()\n",
        "\n",
        "# Replace 'your_file.xlsx' with the uploaded file's name\n",
        "data = pd.read_excel(io.BytesIO(uploaded['your_file.xlsx']))\n",
        "```\n",
        "\n",
        "Note how we are reading excel files in this situation, if you want to upload a csv file instead, you can use **`pd.read_csv`**"
      ],
      "metadata": {
        "id": "Nryu95YMx9B3"
      }
    },
    {
      "cell_type": "markdown",
      "source": [
        "<font color='#2a9d8f' size=5>Exporting Notebooks</font>\n",
        "\n",
        "**To download a Google Colab notebook as a Jupyter notebook to your local desktop, follow these steps:**\n",
        "\n",
        "1. Click on **File** in the top-left corner of the Colab notebook.\n",
        "2. Select **Download** from the dropdown menu.\n",
        "3. Choose **Download .ipynb**.\n",
        "\n",
        "The notebook will be downloaded to your local desktop as a `.ipynb` file, which can be opened with Jupyter Notebook or other compatible environments.\n"
      ],
      "metadata": {
        "id": "o550UD21n7Zy"
      }
    },
    {
      "cell_type": "markdown",
      "source": [
        "**To export to GitHub, follow the instructions in the next section**"
      ],
      "metadata": {
        "id": "S60rqTmQn_dR"
      }
    },
    {
      "cell_type": "markdown",
      "source": [
        "<br>\n",
        "<font color='#2a9d8f' size=6>Introduction to GitHub</font>\n",
        "\n",
        "**What is Git?**\n",
        "\n",
        "Git is a version control system that helps you track changes to files and collaborate with others on projects. It allows you to save different versions of your work and easily revert or share changes.\n",
        "\n",
        "If you decide to run code locally on your laptop, you might want to use Git to track changes and collaborate. Git is not required for Google Colab, but if you're working locally, you can download it here. [Download here](https://git-scm.com/downloads)"
      ],
      "metadata": {
        "id": "IM-hm_5k3TQV"
      }
    },
    {
      "cell_type": "markdown",
      "source": [
        "**What is GitHub? **\n",
        "\n",
        "GitHub is a platform where you can upload your local Git repositories to the cloud, allowing for easy sharing and collaboration."
      ],
      "metadata": {
        "id": "RcQbNEBn4fWT"
      }
    },
    {
      "cell_type": "markdown",
      "source": [
        "<font color='#2a9d8f' size=5>Creating a GitHub Account</font>\n",
        "\n",
        "To create you github account, follow these instructions:  [Link]( https://docs.github.com/en/get-started/start-your-journey/creating-an-account-on-github)"
      ],
      "metadata": {
        "id": "t0jUprXb52AE"
      }
    },
    {
      "cell_type": "markdown",
      "source": [
        "<font color='#2a9d8f' size=5>Creating a Repository</font>\n",
        "\n",
        "After logging in, click the + icon in the top-right corner and select **New repository**. Name the repository \"intro-ml-course-winter2025\" and set it to public.\n",
        "\n",
        "You can also add a short description and a README file."
      ],
      "metadata": {
        "id": "o1h4TcUd7-fY"
      }
    },
    {
      "cell_type": "markdown",
      "source": [
        "\n",
        "<font color='#2a9d8f' size=5>Uploading Google Colab Notebook to GitHub</font>\n",
        "\n",
        "To save your Google Colab notebook to GitHub:\n",
        "\n",
        "1. Click on **File** in the top menu.\n",
        "2. Select **Save a copy in GitHub**.\n",
        "3. Choose the repository you just created from the list.\n",
        "4. Add the notebook to the **main branch**.\n",
        "5. You can also include a **commit message**. A commit message is a brief description of the changes you made, helping others (or your future self) understand what was done in that update (e.g., \"Initial commit of notebook\").\n",
        "\n",
        "Once done, click **OK** to save the notebook to GitHub."
      ],
      "metadata": {
        "id": "TRpchTZB57oV"
      }
    },
    {
      "cell_type": "markdown",
      "source": [
        "\n",
        "<font color='#2a9d8f' size=5>Sharing Material on GitHub</font>\n",
        "\n",
        "There are several ways to share your material on GitHub:\n",
        "\n",
        "1. You can simply share the link to your repository by copying the URL from the browser.\n",
        "2. Alternatively, select your file in the repository, click the three dots (...) in the top-right corner, and choose **\"Copy permalink\"** to get a direct link to that specific file.\n"
      ],
      "metadata": {
        "id": "Ivn3tCcr6BLY"
      }
    },
    {
      "cell_type": "markdown",
      "source": [
        "All the materials and examples from this tutorial are accessible on [Google Colab](https://colab.research.google.com/drive/1lumJv5K2CIULxrmZ_G51FUhKPLDMidqT?usp=sharing). I encourage you to actively run, modify, and test the code to enhance your learning and adapt it to your unique queries and tasks.\n",
        "\n"
      ],
      "metadata": {
        "id": "X4tR2Mmb3j03"
      }
    }
  ]
}